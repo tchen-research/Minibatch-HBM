{
 "cells": [
  {
   "cell_type": "code",
   "execution_count": 22,
   "metadata": {},
   "outputs": [
    {
     "name": "stdout",
     "output_type": "stream",
     "text": [
      "The autoreload extension is already loaded. To reload it, use:\n",
      "  %reload_ext autoreload\n"
     ]
    }
   ],
   "source": [
    "import numpy as np\n",
    "from RK_bin import *\n",
    "import matplotlib.pyplot as plt\n",
    "import matplotlib as mpl\n",
    "\n",
    "from IPython.display import clear_output\n",
    "%load_ext autoreload\n",
    "%autoreload 2"
   ]
  },
  {
   "cell_type": "code",
   "execution_count": 23,
   "metadata": {},
   "outputs": [],
   "source": [
    "#mpl.use(\"pgf\")\n",
    "preamble = r\"\"\"\n",
    "\\usepackage{bm}\n",
    "\\renewcommand{\\vec}{\\bm}\n",
    "\"\"\"\n",
    "\n",
    "mpl.use(\"pgf\")\n",
    "\n",
    "\n",
    "mpl.rcParams.update({\n",
    "    \"pgf.texsystem\": \"pdflatex\",\n",
    "    'font.family': 'serif',\n",
    "    'font.size' : 8,\n",
    "    'text.usetex': True,\n",
    "    'pgf.rcfonts': False,\n",
    "    'pgf.preamble': preamble\n",
    "})"
   ]
  },
  {
   "cell_type": "code",
   "execution_count": 24,
   "metadata": {},
   "outputs": [],
   "source": [
    "d = 100\n",
    "n = 1000000\n",
    "\n",
    "np.random.seed(0)\n",
    "\n",
    "U,_ = np.linalg.qr(np.random.randn(n,d))\n",
    "V,_ = np.linalg.qr(np.random.randn(d,d))"
   ]
  },
  {
   "cell_type": "code",
   "execution_count": 25,
   "metadata": {},
   "outputs": [],
   "source": [
    "np.random.seed(0)\n",
    "\n",
    "κ = 50\n",
    "\n",
    "Λ = 1+np.linspace(0,1,d)*(κ-1)*.5**(d-np.arange(d)-1)\n",
    "\n",
    "Σ = np.diag(np.sqrt(Λ))    \n",
    "A = U@Σ@V\n",
    "x_opt = np.random.randn(d)\n",
    "r = np.random.randn(n)\n",
    "b = A@x_opt + 1e-5*r/np.linalg.norm(r)\n",
    "x_opt = np.linalg.lstsq(A,b,rcond=None)[0]\n",
    "\n",
    "λ,ℓ,L,κ,κ_,α,β,η,κC = get_params(A,c=1e3)"
   ]
  },
  {
   "cell_type": "code",
   "execution_count": 26,
   "metadata": {},
   "outputs": [],
   "source": [
    "k_max = 100\n",
    "\n",
    "B = getB(None,α,β,λ,κC,mode='approx')\n",
    "\n",
    "n_trials = 100\n",
    "\n",
    "B_scales = [1e1,1e0,1e-1]\n"
   ]
  },
  {
   "cell_type": "code",
   "execution_count": 27,
   "metadata": {},
   "outputs": [],
   "source": [
    "err_HBM = []\n",
    "res_HBM = []\n",
    "\n",
    "x_HBM = HBM(A,b,k_max,α,β)\n",
    "err_HBM.append(np.linalg.norm(x_HBM - x_opt[None,:],axis=1))\n",
    "res_HBM.append(np.linalg.norm(b-(A@x_HBM.T).T,axis=1))"
   ]
  },
  {
   "cell_type": "code",
   "execution_count": 6,
   "metadata": {},
   "outputs": [
    {
     "name": "stdout",
     "output_type": "stream",
     "text": [
      "trial 99/100\n"
     ]
    }
   ],
   "source": [
    "err_RK = np.zeros((n_trials,k_max))\n",
    "res_RK = np.zeros((n_trials,k_max))\n",
    "\n",
    "output_skip = 50\n",
    "np.random.seed(0)\n",
    "for j in range(n_trials):\n",
    "    print(f'trial {j}/{n_trials}')\n",
    "    clear_output(wait=True)\n",
    "    \n",
    "    x_RK = RK(A,b,k_max,output_skip=output_skip)\n",
    "    err_RK[j] = np.linalg.norm(x_RK - x_opt[None,:],axis=1)\n",
    "    res_RK[j] = np.linalg.norm(b-(A@x_RK.T).T,axis=1)"
   ]
  },
  {
   "cell_type": "code",
   "execution_count": 9,
   "metadata": {},
   "outputs": [
    {
     "name": "stdout",
     "output_type": "stream",
     "text": [
      "0.1, 2657, trial 99/100\n"
     ]
    }
   ],
   "source": [
    "err_HBM_mb = []\n",
    "res_HBM_mb = []\n",
    "for scale in B_scales:\n",
    "        \n",
    "    err_HBM_mb_expr = np.zeros((n_trials,k_max))\n",
    "    res_HBM_mb_expr = np.zeros((n_trials,k_max))\n",
    "    np.random.seed(0)\n",
    "    for j in range(n_trials):\n",
    "        print(f'{scale}, {int(B*scale)}, trial {j}/{n_trials}')\n",
    "        clear_output(wait=True)\n",
    "\n",
    "        x_HBM_mb = minibatch_HBM(A,b,k_max,α,β,int(B*scale),sampling='row_norm')\n",
    "        err_HBM_mb_expr[j] = np.linalg.norm(x_HBM_mb - x_opt[None,:],axis=1)\n",
    "        res_HBM_mb_expr[j] = np.linalg.norm(b-(A@x_HBM_mb.T).T,axis=1)\n",
    "        \n",
    "    err_HBM_mb.append(err_HBM_mb_expr)\n",
    "    res_HBM_mb.append(res_HBM_mb_expr)"
   ]
  },
  {
   "cell_type": "code",
   "execution_count": 28,
   "metadata": {},
   "outputs": [],
   "source": [
    "#np.save('data/inconsistent.npy',[err_RK,res_RK,err_HBM_mb,res_HBM_mb],allow_pickle=True)\n",
    "[err_RK,res_RK,err_HBM_mb,res_HBM_mb] = np.load('data/inconsistent.npy',allow_pickle=True)"
   ]
  },
  {
   "cell_type": "code",
   "execution_count": 37,
   "metadata": {},
   "outputs": [],
   "source": [
    "colors = ['#1f4c84','#800000','#979700','#007f68']\n",
    "line_styles = ['--','-.',(0, (4, 2, 1, 1, 1, 2)),':']\n",
    "\n",
    "colors = colors[-1:]+colors[:-1]\n",
    "line_styles = line_styles[-1:]+line_styles[:-1]"
   ]
  },
  {
   "cell_type": "code",
   "execution_count": 38,
   "metadata": {},
   "outputs": [],
   "source": [
    "fig,axs = plt.subplots(1,2,figsize=(8,3.5),sharex='col',sharey=True)\n",
    "\n",
    "plt.subplots_adjust(wspace=.05)\n",
    "plt.subplots_adjust(left=0.05, right=0.95, top=0.9, bottom=.2)\n",
    "\n",
    "rate = np.sqrt(2)*κC*np.sqrt(β)**np.arange(k_max)\n",
    "#axs[0].plot(np.arange(k_max),rate,\\\n",
    "#           color='k',ls=':',lw=1)\n",
    "axs[1].axhline(np.linalg.norm(b-A@x_opt)/np.linalg.norm(b),\\\n",
    "            color='k',ls=':',lw=1,label=r'$\\|\\vec{b}-\\vec{A}\\vec{x}^*\\|$')\n",
    "\n",
    "axs[0].plot(np.arange(k_max),err_HBM[0]/err_HBM[0][0],\\\n",
    "            color='k',ls='-',lw=1,label='HBM')\n",
    "axs[1].plot(np.arange(k_max),res_HBM[0]/res_HBM[0][0],\\\n",
    "            color='k',ls='-',lw=1,label='HBM')\n",
    "\n",
    "σ = .05\n",
    "        \n",
    "median = np.quantile(err_RK/err_RK[0,0],.5,axis=0)\n",
    "upper = np.quantile(err_RK/err_RK[0,0],1.-σ,axis=0)\n",
    "lower = np.quantile(err_RK/err_RK[0,0],σ,axis=0)\n",
    "\n",
    "axs[0].plot(np.arange(k_max),median,\\\n",
    "           color=colors[-1],ls=line_styles[-1],label='RK')\n",
    "axs[0].fill_between(np.arange(k_max),lower,upper,alpha=.15,\\\n",
    "            color=colors[-1],ls=line_styles[-1])\n",
    "\n",
    "axs[1].plot(np.arange(k_max),np.median(res_RK,axis=0)/res_RK[0][0],\\\n",
    "           color=colors[-1],ls=line_styles[-1],label='RK')\n",
    "\n",
    "for j,scale in enumerate(B_scales):\n",
    "\n",
    "    median = np.quantile(err_HBM_mb[j]/err_HBM_mb[j][0,0],.5,axis=0)\n",
    "    upper = np.quantile(err_HBM_mb[j]/err_HBM_mb[j][0,0],1.-σ,axis=0)\n",
    "    lower = np.quantile(err_HBM_mb[j]/err_HBM_mb[j][0,0],σ,axis=0)\n",
    "        \n",
    "    axs[0].plot(np.arange(k_max),median,\\\n",
    "            color=colors[j],ls=line_styles[j])\n",
    "    axs[0].fill_between(np.arange(k_max),lower,upper,alpha=.15,\\\n",
    "            color=colors[j],ls=line_styles[j])\n",
    "    \n",
    "    median = np.quantile(res_HBM_mb[j]/res_HBM_mb[j][0,0],.5,axis=0)\n",
    "    upper = np.quantile(res_HBM_mb[j]/res_HBM_mb[j][0,0],1.-σ,axis=0)\n",
    "    lower = np.quantile(res_HBM_mb[j]/res_HBM_mb[j][0,0],σ,axis=0)\n",
    "    \n",
    "    axs[1].plot(np.arange(k_max),median,\\\n",
    "            color=colors[j],ls=line_styles[j],label=f'$B={scale}B^*$')\n",
    "    axs[1].fill_between(np.arange(k_max),lower,upper,alpha=.15,\\\n",
    "            color=colors[j],ls=line_styles[j])\n",
    "    \n",
    "axs[0].set_title(r'error: $\\|\\vec{x}_k-\\vec{x}^*\\|$')\n",
    "axs[1].set_title(r'residual: $\\|\\vec{b}-\\vec{A}\\vec{x}_k\\|$')\n",
    "\n",
    "axs[0].set_yscale('log')\n",
    "axs[0].set_ylim(1e-10,1e1)\n",
    "\n",
    "axs[0].set_xlabel(f'iteration: $k$ ($k/{output_skip}$ for RK)')\n",
    "axs[1].set_xlabel(f'iteration: $k$ ($k/{output_skip}$ for RK)')\n",
    "\n",
    "axs[1].legend(loc='upper center', bbox_to_anchor=(0,-.17), ncol=7)\n",
    "\n",
    "\n",
    "plt.savefig('imgs/inconsistent.pdf')\n",
    "plt.close()"
   ]
  },
  {
   "cell_type": "code",
   "execution_count": null,
   "metadata": {},
   "outputs": [],
   "source": []
  }
 ],
 "metadata": {
  "kernelspec": {
   "display_name": "Python 3",
   "language": "python",
   "name": "python3"
  },
  "language_info": {
   "codemirror_mode": {
    "name": "ipython",
    "version": 3
   },
   "file_extension": ".py",
   "mimetype": "text/x-python",
   "name": "python",
   "nbconvert_exporter": "python",
   "pygments_lexer": "ipython3",
   "version": "3.8.3"
  }
 },
 "nbformat": 4,
 "nbformat_minor": 4
}
