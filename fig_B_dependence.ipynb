{
 "cells": [
  {
   "cell_type": "code",
   "execution_count": 1,
   "metadata": {},
   "outputs": [],
   "source": [
    "import numpy as np\n",
    "from RK_bin import *\n",
    "import matplotlib.pyplot as plt\n",
    "import matplotlib as mpl\n",
    "\n",
    "from IPython.display import clear_output\n",
    "%load_ext autoreload\n",
    "%autoreload 2"
   ]
  },
  {
   "cell_type": "code",
   "execution_count": 2,
   "metadata": {},
   "outputs": [],
   "source": [
    "#mpl.use(\"pgf\")\n",
    "\n",
    "mpl.rcParams.update({\n",
    "    \"pgf.texsystem\": \"pdflatex\",\n",
    "    'font.family': 'serif',\n",
    "    'font.size' : 8,\n",
    "    'text.usetex': True,\n",
    "    'pgf.rcfonts': False,\n",
    "})"
   ]
  },
  {
   "cell_type": "code",
   "execution_count": 3,
   "metadata": {},
   "outputs": [],
   "source": [
    "d = 100\n",
    "n = 1000000\n",
    "\n",
    "np.random.seed(0)\n",
    "\n",
    "U,_ = np.linalg.qr(np.random.randn(n,d))\n",
    "V,_ = np.linalg.qr(np.random.randn(d,d))"
   ]
  },
  {
   "cell_type": "code",
   "execution_count": 4,
   "metadata": {},
   "outputs": [],
   "source": [
    "np.random.seed(0)\n",
    "\n",
    "κ_kmax = [(100,200),(30,110),(6,45)]\n",
    "exprs = []\n",
    "for κ,k_max in κ_kmax:\n",
    "\n",
    "    expr1 = {\n",
    "        'name' : 'fast exponential',\n",
    "        'Λ': 1+np.linspace(0,1,d)*(κ-1)*.1**(d-np.arange(d)-1),\n",
    "        'k_max': k_max,\n",
    "    }\n",
    "\n",
    "    expr2 = {\n",
    "        'name' : 'slow exponential',\n",
    "        'Λ': 1+np.linspace(0,1,d)*(κ-1)*.8**(d-np.arange(d)-1),\n",
    "        'k_max': k_max,\n",
    "    }\n",
    "\n",
    "    expr3 = {\n",
    "        'name' : 'fast algebraic',\n",
    "        'Λ': np.linspace(0,1,d)**2*(κ-1)+1,\n",
    "        'k_max': k_max,\n",
    "    }\n",
    "\n",
    "    expr4 = {\n",
    "        'name' : 'slow algebraic',\n",
    "        'Λ': np.linspace(0,1,d)**1*(κ-1)+1,\n",
    "        'k_max': k_max,\n",
    "    }\n",
    "\n",
    "    exprs += [expr1,expr2,expr3,expr4]"
   ]
  },
  {
   "cell_type": "code",
   "execution_count": 5,
   "metadata": {},
   "outputs": [
    {
     "name": "stdout",
     "output_type": "stream",
     "text": [
      "11: 0.001, 178, trial 99/100\n"
     ]
    }
   ],
   "source": [
    "err_HBM = []\n",
    "err_HBM_mb_all = []\n",
    "params = []\n",
    "\n",
    "n_trials = 100\n",
    "\n",
    "for i,expr in enumerate(exprs):\n",
    "    \n",
    "    Σ = np.diag(np.sqrt(expr['Λ']))\n",
    "    k_max = expr['k_max']\n",
    "    \n",
    "    A = U@Σ@V\n",
    "    x_opt = np.random.randn(d)\n",
    "    b = A@x_opt\n",
    "\n",
    "    params.append(get_params(A,c=1e3))\n",
    "    λ,ℓ,L,κ,κ_,α,β,η,κC = params[i]\n",
    "     \n",
    "    B = getB(None,α,β,λ,κC,mode='approx')\n",
    "    if B>1e6:\n",
    "        print(f'B too large')\n",
    "        B=int(1e6)\n",
    "    \n",
    "    x_HBM = HBM(A,b,k_max,α,β)\n",
    "    err_HBM.append(np.linalg.norm(x_HBM - x_opt[None,:],axis=1))\n",
    "    \n",
    "    B_scales = [1e0,1e-1,1e-2,1e-3]\n",
    "    err_HBM_mb = []\n",
    "    for scale in B_scales:\n",
    "        \n",
    "        err_HBM_mb_expr = np.zeros((n_trials,k_max))\n",
    "        err_HBM_mb_unif_expr = np.zeros((n_trials,k_max))\n",
    "        np.random.seed(0)\n",
    "        for j in range(n_trials):\n",
    "            \n",
    "            print(f'{i}: {scale}, {int(B*scale)}, trial {j}/{n_trials}')\n",
    "            clear_output(wait=True)\n",
    "    \n",
    "            x_HBM_mb = minibatch_HBM(A,b,k_max,α,β,int(B*scale),sampling='row_norm')\n",
    "            err_HBM_mb_expr[j] = np.linalg.norm(x_HBM_mb - x_opt[None,:],axis=1)\n",
    "        \n",
    "        err_HBM_mb.append(err_HBM_mb_expr)\n",
    "        \n",
    "    err_HBM_mb_all.append(err_HBM_mb)"
   ]
  },
  {
   "cell_type": "code",
   "execution_count": 6,
   "metadata": {},
   "outputs": [],
   "source": [
    "np.save('data/B_dependence.npy',[err_HBM,err_HBM_mb_all],allow_pickle=True)\n",
    "[err_HBM,err_HBM_mb_all] = np.load('data/B_dependence.npy',allow_pickle=True)"
   ]
  },
  {
   "cell_type": "code",
   "execution_count": 7,
   "metadata": {},
   "outputs": [],
   "source": [
    "colors = ['#1f4c84','#800000','#976100','#007f00']\n",
    "line_styles = ['--','-.',(0, (4, 2, 1, 1, 1, 2)),':']"
   ]
  },
  {
   "cell_type": "code",
   "execution_count": 23,
   "metadata": {},
   "outputs": [],
   "source": [
    "fig,axs = plt.subplots(4,3,figsize=(8,7),sharex='col',sharey=True)\n",
    "axs = axs.T.flatten()\n",
    "\n",
    "plt.subplots_adjust(wspace=.05,hspace=.3)\n",
    "plt.subplots_adjust(left=0.05, right=0.95, top=0.95, bottom=.095)\n",
    "\n",
    "for i,expr in enumerate(exprs):\n",
    "    \n",
    "    name = expr['name']\n",
    "    k_max = expr['k_max']\n",
    "    \n",
    "    λ,ℓ,L,κ,κ_,α,β,η,κC = params[i]\n",
    "            \n",
    "    rate = np.sqrt(2)*κC*np.sqrt(β)**np.arange(k_max)\n",
    "#    axs[i].plot(np.arange(k_max),rate,\\\n",
    "#               color='k',ls=':',lw=1)\n",
    "    \n",
    "    B = getB(None,α,β,λ,κC,mode='approx')\n",
    "    B = min(B,1e6)\n",
    "\n",
    "    \n",
    "    axs[i].plot(np.arange(k_max),err_HBM[i]/err_HBM[i][0],label='HBM'\\\n",
    "                ,color='k',ls='-',lw=1)\n",
    "\n",
    "    for j,scale in enumerate(B_scales):\n",
    "        \n",
    "        σ = .1\n",
    "        \n",
    "        median = np.quantile(err_HBM_mb_all[i][j]/err_HBM_mb_all[i][j][0,0],.5,axis=0)\n",
    "        upper = np.quantile(err_HBM_mb_all[i][j]/err_HBM_mb_all[i][j][0,0],1.-σ,axis=0)\n",
    "        lower = np.quantile(err_HBM_mb_all[i][j]/err_HBM_mb_all[i][j][0,0],σ,axis=0)\n",
    "    \n",
    "        axs[i].plot(np.arange(k_max),median,\\\n",
    "                color=colors[j],ls=line_styles[j],label=f'$B={scale}B^*$')\n",
    "        axs[i].fill_between(np.arange(k_max),lower,upper,alpha=.15,\\\n",
    "                color=colors[j],ls=line_styles[j])\n",
    "\n",
    "    axs[i].set_title(f'$\\\\kappa = {κ:1.0f}$, $\\\\bar{{\\\\kappa}} = {κ_:1.2f}$, $B^*={B}$')\n",
    "    \n",
    "    if i%4==3:\n",
    "        axs[i].set_xlabel('iteration: $k$')\n",
    "\n",
    "    axs[i].set_yscale('log')\n",
    "    \n",
    "axs[0].set_ylim(1e-16,1e2)\n",
    "\n",
    "#axs[0].legend()\n",
    "axs[7].legend(loc='upper center', bbox_to_anchor=(.5,-.33), ncol=7)\n",
    "\n",
    "#plt.show()\n",
    "plt.savefig('imgs/B_dependence.pdf')\n",
    "plt.close()"
   ]
  },
  {
   "cell_type": "code",
   "execution_count": null,
   "metadata": {},
   "outputs": [],
   "source": []
  }
 ],
 "metadata": {
  "kernelspec": {
   "display_name": "Python 3",
   "language": "python",
   "name": "python3"
  },
  "language_info": {
   "codemirror_mode": {
    "name": "ipython",
    "version": 3
   },
   "file_extension": ".py",
   "mimetype": "text/x-python",
   "name": "python",
   "nbconvert_exporter": "python",
   "pygments_lexer": "ipython3",
   "version": "3.8.3"
  }
 },
 "nbformat": 4,
 "nbformat_minor": 4
}
